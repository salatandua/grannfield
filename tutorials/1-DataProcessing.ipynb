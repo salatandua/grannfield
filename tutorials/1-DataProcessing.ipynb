{
 "cells": [
  {
   "cell_type": "markdown",
   "source": [
    "# Data preparation for GraNNField\n",
    "\n",
    "This tutorial introduces how GraNNField creates, manages, and loads data from various sources.\n",
    "\n",
    "Supporting data formats include:\n",
    "- extxyz\n",
    "- xyz\n",
    "- ase-atoms\n",
    "- existing GraNNField-db/ase-db\n",
    "- Other formats need to be converted to one of the above formats"
   ],
   "metadata": {
    "collapsed": false
   }
  },
  {
   "cell_type": "markdown",
   "source": [
    "# Locate data directory\n",
    "\n"
   ],
   "metadata": {
    "collapsed": false
   }
  },
  {
   "cell_type": "code",
   "execution_count": null,
   "outputs": [],
   "source": [
    "import os\n",
    "\n",
    "data_directory = 'example_data'\n",
    "assert os.path.exists(data_directory), 'Data directory not found'"
   ],
   "metadata": {
    "collapsed": false
   }
  },
  {
   "cell_type": "markdown",
   "source": [
    "# Generate MaterialsData from single extxyz file (single or multiple structures)"
   ],
   "metadata": {
    "collapsed": false
   }
  },
  {
   "cell_type": "code",
   "execution_count": null,
   "outputs": [],
   "source": [
    "from grannfield.data.data_from_files import extxyz_to_db\n",
    "from grannfield.data.materials import MaterialsData\n",
    "\n",
    "work_dir = 'work_dir'\n",
    "\n",
    "# Gnerate a directory of not present\n",
    "if not os.path.exists(os.path.join(data_directory,work_dir)):\n",
    "    os.mkdir(os.path.join(data_directory,work_dir))\n",
    "\n",
    "extxyz_to_db(os.path.join(data_directory,'test_1.extxyz'), os.path.join(work_dir,'test_1.db'))"
   ],
   "metadata": {
    "collapsed": false
   }
  },
  {
   "cell_type": "markdown",
   "source": [
    "# Generate GraNNField-db from multiple extxyz files (single or multiple structures)"
   ],
   "metadata": {
    "collapsed": false
   }
  },
  {
   "cell_type": "code",
   "execution_count": null,
   "outputs": [],
   "source": [],
   "metadata": {
    "collapsed": false
   }
  },
  {
   "cell_type": "code",
   "execution_count": null,
   "outputs": [],
   "source": [],
   "metadata": {
    "collapsed": false
   }
  },
  {
   "cell_type": "code",
   "execution_count": null,
   "outputs": [],
   "source": [],
   "metadata": {
    "collapsed": false
   }
  },
  {
   "cell_type": "code",
   "execution_count": null,
   "metadata": {
    "collapsed": true
   },
   "outputs": [],
   "source": [
    "import os\n",
    "from grannfield.data.data_from_files import extxyz_to_db\n",
    "from grannfield.data.materials import MaterialsData"
   ]
  },
  {
   "cell_type": "markdown",
   "source": [
    "From existing data"
   ],
   "metadata": {
    "collapsed": false
   }
  },
  {
   "cell_type": "code",
   "execution_count": null,
   "outputs": [],
   "source": [],
   "metadata": {
    "collapsed": false
   }
  }
 ],
 "metadata": {
  "kernelspec": {
   "display_name": "Python 3",
   "language": "python",
   "name": "python3"
  },
  "language_info": {
   "codemirror_mode": {
    "name": "ipython",
    "version": 2
   },
   "file_extension": ".py",
   "mimetype": "text/x-python",
   "name": "python",
   "nbconvert_exporter": "python",
   "pygments_lexer": "ipython2",
   "version": "2.7.6"
  }
 },
 "nbformat": 4,
 "nbformat_minor": 0
}
